{
  "cells": [
    {
      "cell_type": "markdown",
      "metadata": {
        "colab_type": "text",
        "id": "view-in-github"
      },
      "source": [
        "<a href=\"https://colab.research.google.com/github/WilliamEstrela/1-Lista-POO-1/blob/master/Houses.ipynb\" target=\"_parent\"><img src=\"https://colab.research.google.com/assets/colab-badge.svg\" alt=\"Open In Colab\"/></a>"
      ]
    },
    {
      "cell_type": "code",
      "execution_count": 36,
      "metadata": {
        "id": "_Xr34rYTfzah"
      },
      "outputs": [],
      "source": [
        "import pandas as pd\n",
        "\n",
        "base = pd.read_csv('./Desktop/me/train.csv')\n",
        "\n"
      ]
    },
    {
      "cell_type": "code",
      "execution_count": 38,
      "metadata": {
        "colab": {
          "base_uri": "https://localhost:8080/"
        },
        "id": "Si50pAwdkVSd",
        "outputId": "8bfbe35b-c332-485a-d881-5ad476f76159"
      },
      "outputs": [
        {
          "data": {
            "text/plain": [
              "PoolQC         0.995205\n",
              "MiscFeature    0.963014\n",
              "Alley          0.937671\n",
              "Fence          0.807534\n",
              "MasVnrType     0.597260\n",
              "FireplaceQu    0.472603\n",
              "LotFrontage    0.177397\n",
              "GarageYrBlt    0.055479\n",
              "GarageCond     0.055479\n",
              "GarageType     0.055479\n",
              "dtype: float64"
            ]
          },
          "execution_count": 38,
          "metadata": {},
          "output_type": "execute_result"
        }
      ],
      "source": [
        "#verificando o percentual de valores nulos\n",
        "(base.isnull().sum()/base.shape[0]).sort_values(ascending=False).head(10)\n"
      ]
    },
    {
      "cell_type": "code",
      "execution_count": 39,
      "metadata": {
        "id": "PhQar2f1kCiW"
      },
      "outputs": [],
      "source": [
        "#verificando e eliminando colunas com valores maiores que 10% vazios\n",
        "eliminar = base.columns[(base.isnull().sum()/base.shape[0]) > 0.1]\n",
        "base = base.drop(eliminar, axis = 1)\n"
      ]
    },
    {
      "cell_type": "code",
      "execution_count": 40,
      "metadata": {
        "id": "4N7fa2xV4p84"
      },
      "outputs": [],
      "source": [
        "#selecionando apenas colunas numericas\n",
        "colunas = base.columns[base.dtypes != 'object']"
      ]
    },
    {
      "cell_type": "code",
      "execution_count": null,
      "metadata": {
        "colab": {
          "base_uri": "https://localhost:8080/",
          "height": 193
        },
        "id": "In_DOrHS4p4w",
        "outputId": "a872a7a8-fe51-4eab-a4dd-32ef0803560a"
      },
      "outputs": [
        {
          "data": {
            "text/html": [
              "<div>\n",
              "<style scoped>\n",
              "    .dataframe tbody tr th:only-of-type {\n",
              "        vertical-align: middle;\n",
              "    }\n",
              "\n",
              "    .dataframe tbody tr th {\n",
              "        vertical-align: top;\n",
              "    }\n",
              "\n",
              "    .dataframe thead th {\n",
              "        text-align: right;\n",
              "    }\n",
              "</style>\n",
              "<table border=\"1\" class=\"dataframe\">\n",
              "  <thead>\n",
              "    <tr style=\"text-align: right;\">\n",
              "      <th></th>\n",
              "      <th>Id</th>\n",
              "      <th>MSSubClass</th>\n",
              "      <th>LotArea</th>\n",
              "      <th>OverallQual</th>\n",
              "      <th>OverallCond</th>\n",
              "      <th>YearBuilt</th>\n",
              "      <th>YearRemodAdd</th>\n",
              "      <th>MasVnrArea</th>\n",
              "      <th>BsmtFinSF1</th>\n",
              "      <th>BsmtFinSF2</th>\n",
              "      <th>...</th>\n",
              "      <th>WoodDeckSF</th>\n",
              "      <th>OpenPorchSF</th>\n",
              "      <th>EnclosedPorch</th>\n",
              "      <th>3SsnPorch</th>\n",
              "      <th>ScreenPorch</th>\n",
              "      <th>PoolArea</th>\n",
              "      <th>MiscVal</th>\n",
              "      <th>MoSold</th>\n",
              "      <th>YrSold</th>\n",
              "      <th>SalePrice</th>\n",
              "    </tr>\n",
              "  </thead>\n",
              "  <tbody>\n",
              "    <tr>\n",
              "      <th>0</th>\n",
              "      <td>1</td>\n",
              "      <td>60</td>\n",
              "      <td>8450</td>\n",
              "      <td>7</td>\n",
              "      <td>5</td>\n",
              "      <td>2003</td>\n",
              "      <td>2003</td>\n",
              "      <td>196.0</td>\n",
              "      <td>706</td>\n",
              "      <td>0</td>\n",
              "      <td>...</td>\n",
              "      <td>0</td>\n",
              "      <td>61</td>\n",
              "      <td>0</td>\n",
              "      <td>0</td>\n",
              "      <td>0</td>\n",
              "      <td>0</td>\n",
              "      <td>0</td>\n",
              "      <td>2</td>\n",
              "      <td>2008</td>\n",
              "      <td>208500</td>\n",
              "    </tr>\n",
              "    <tr>\n",
              "      <th>1</th>\n",
              "      <td>2</td>\n",
              "      <td>20</td>\n",
              "      <td>9600</td>\n",
              "      <td>6</td>\n",
              "      <td>8</td>\n",
              "      <td>1976</td>\n",
              "      <td>1976</td>\n",
              "      <td>0.0</td>\n",
              "      <td>978</td>\n",
              "      <td>0</td>\n",
              "      <td>...</td>\n",
              "      <td>298</td>\n",
              "      <td>0</td>\n",
              "      <td>0</td>\n",
              "      <td>0</td>\n",
              "      <td>0</td>\n",
              "      <td>0</td>\n",
              "      <td>0</td>\n",
              "      <td>5</td>\n",
              "      <td>2007</td>\n",
              "      <td>181500</td>\n",
              "    </tr>\n",
              "    <tr>\n",
              "      <th>2</th>\n",
              "      <td>3</td>\n",
              "      <td>60</td>\n",
              "      <td>11250</td>\n",
              "      <td>7</td>\n",
              "      <td>5</td>\n",
              "      <td>2001</td>\n",
              "      <td>2002</td>\n",
              "      <td>162.0</td>\n",
              "      <td>486</td>\n",
              "      <td>0</td>\n",
              "      <td>...</td>\n",
              "      <td>0</td>\n",
              "      <td>42</td>\n",
              "      <td>0</td>\n",
              "      <td>0</td>\n",
              "      <td>0</td>\n",
              "      <td>0</td>\n",
              "      <td>0</td>\n",
              "      <td>9</td>\n",
              "      <td>2008</td>\n",
              "      <td>223500</td>\n",
              "    </tr>\n",
              "  </tbody>\n",
              "</table>\n",
              "<p>3 rows × 37 columns</p>\n",
              "</div>"
            ],
            "text/plain": [
              "   Id  MSSubClass  LotArea  OverallQual  OverallCond  YearBuilt  YearRemodAdd  \\\n",
              "0   1          60     8450            7            5       2003          2003   \n",
              "1   2          20     9600            6            8       1976          1976   \n",
              "2   3          60    11250            7            5       2001          2002   \n",
              "\n",
              "   MasVnrArea  BsmtFinSF1  BsmtFinSF2  ...  WoodDeckSF  OpenPorchSF  \\\n",
              "0       196.0         706           0  ...           0           61   \n",
              "1         0.0         978           0  ...         298            0   \n",
              "2       162.0         486           0  ...           0           42   \n",
              "\n",
              "   EnclosedPorch  3SsnPorch  ScreenPorch  PoolArea  MiscVal  MoSold  YrSold  \\\n",
              "0              0          0            0         0        0       2    2008   \n",
              "1              0          0            0         0        0       5    2007   \n",
              "2              0          0            0         0        0       9    2008   \n",
              "\n",
              "   SalePrice  \n",
              "0     208500  \n",
              "1     181500  \n",
              "2     223500  \n",
              "\n",
              "[3 rows x 37 columns]"
            ]
          },
          "execution_count": 41,
          "metadata": {},
          "output_type": "execute_result"
        }
      ],
      "source": [
        "\n",
        "#Selecioonando apenas colunas com valores numericos\n",
        "base2 = base.loc[:,colunas]\n",
        "base2.head(3)"
      ]
    },
    {
      "cell_type": "code",
      "execution_count": 42,
      "metadata": {
        "colab": {
          "base_uri": "https://localhost:8080/"
        },
        "id": "D8eJnz_Wgn-u",
        "outputId": "9ff7fc66-d943-4e2b-a3e7-383b61fa0308"
      },
      "outputs": [
        {
          "data": {
            "text/plain": [
              "GarageYrBlt    81\n",
              "MasVnrArea      8\n",
              "Id              0\n",
              "dtype: int64"
            ]
          },
          "execution_count": 42,
          "metadata": {},
          "output_type": "execute_result"
        }
      ],
      "source": [
        "#Verificando valores vazios\n",
        "base2.isnull().sum().sort_values(ascending=False).head(3)\n"
      ]
    },
    {
      "cell_type": "code",
      "execution_count": null,
      "metadata": {
        "id": "lHD-S07uhZbu"
      },
      "outputs": [],
      "source": [
        "#Inserindo -1 nos valores vazios\n",
        "base2 = base2.fillna(-1)"
      ]
    },
    {
      "cell_type": "markdown",
      "metadata": {
        "id": "FnbxAfmhiu89"
      },
      "source": [
        "Criando o modelo"
      ]
    },
    {
      "cell_type": "code",
      "execution_count": null,
      "metadata": {
        "id": "7EHLQeY6jZeS"
      },
      "outputs": [],
      "source": [
        "#Separando as variaveis independentes e dependentes\n",
        "\n",
        "#Removendo a coluna SalePrice \n",
        "x = base2.drop('SalePrice', axis=1)\n",
        "#Pegando apenas a coluna SalePrice que é o target do modelo\n",
        "y = base2.SalePrice\n"
      ]
    },
    {
      "cell_type": "code",
      "execution_count": null,
      "metadata": {
        "id": "hQYt-gw9iumf"
      },
      "outputs": [],
      "source": [
        "#Importanto as bibliotecas para o modelo\n",
        "from sklearn.model_selection import train_test_split"
      ]
    },
    {
      "cell_type": "code",
      "execution_count": 46,
      "metadata": {
        "id": "leY8AAAEi6VI"
      },
      "outputs": [],
      "source": [
        "#Dividindo a base entre treino e teste\n",
        "X_train, X_test, y_train, y_test = train_test_split(x,y, test_size=0.33, random_state=42)"
      ]
    },
    {
      "cell_type": "code",
      "execution_count": 47,
      "metadata": {
        "id": "5C3QliIMnB-C"
      },
      "outputs": [],
      "source": [
        "#importando a regressão linear\n",
        "from sklearn.linear_model import LinearRegression"
      ]
    },
    {
      "cell_type": "code",
      "execution_count": 48,
      "metadata": {
        "id": "ixGqnEcynMgM"
      },
      "outputs": [],
      "source": [
        "#criando o regressor e fazendo o fit com os dados de treino\n",
        "reg_rl = LinearRegression().fit(X_train, y_train)"
      ]
    },
    {
      "cell_type": "code",
      "execution_count": 49,
      "metadata": {
        "id": "RtdYrzebnoOc"
      },
      "outputs": [],
      "source": [
        "#fazendo a previsão para os dados de teste\n",
        "y_rl = reg_rl.predict(X_test)"
      ]
    },
    {
      "cell_type": "code",
      "execution_count": 50,
      "metadata": {
        "id": "X0UQT0z6WlST"
      },
      "outputs": [],
      "source": [
        "#importando arvore de regressao\n",
        "from sklearn import tree"
      ]
    },
    {
      "cell_type": "code",
      "execution_count": 51,
      "metadata": {
        "id": "JUHqbBt9dkps"
      },
      "outputs": [],
      "source": [
        "#criando regressor e fazendo o fit com os dados de treino\n",
        "reg_ar = tree.DecisionTreeRegressor(random_state=42).fit(X_train, y_train)"
      ]
    },
    {
      "cell_type": "code",
      "execution_count": 52,
      "metadata": {
        "id": "a8tS-NMLo0VG"
      },
      "outputs": [],
      "source": [
        "# fazendo previsão\n",
        "y_ar = reg_ar.predict(X_test)"
      ]
    },
    {
      "cell_type": "code",
      "execution_count": 53,
      "metadata": {
        "id": "Be3r0ySTtbAm"
      },
      "outputs": [],
      "source": [
        "# Importando o KNN\n",
        "from sklearn.neighbors import KNeighborsRegressor"
      ]
    },
    {
      "cell_type": "code",
      "execution_count": 54,
      "metadata": {
        "id": "3OWKhH2TtntC"
      },
      "outputs": [],
      "source": [
        "#Criando regressor e fazendo fit com os dados de treino\n",
        "reg_knn = KNeighborsRegressor(n_neighbors=2).fit(X_train, y_train)"
      ]
    },
    {
      "cell_type": "code",
      "execution_count": 55,
      "metadata": {
        "id": "HIVS9O8_txIf"
      },
      "outputs": [],
      "source": [
        "# Fazendo a previsão\n",
        "y_knn = reg_knn.predict(X_test)"
      ]
    },
    {
      "cell_type": "code",
      "execution_count": 56,
      "metadata": {
        "id": "TRo7UF7_t_JC"
      },
      "outputs": [],
      "source": [
        "#Importando o erro médio absoluto\n",
        "from sklearn.metrics import mean_absolute_error"
      ]
    },
    {
      "cell_type": "code",
      "execution_count": 57,
      "metadata": {
        "id": "nxIP-btmuFzX"
      },
      "outputs": [],
      "source": [
        "#Importando o erro médio quadrático\n",
        "from sklearn.metrics import mean_squared_error"
      ]
    },
    {
      "cell_type": "code",
      "execution_count": 58,
      "metadata": {
        "colab": {
          "base_uri": "https://localhost:8080/"
        },
        "id": "c27FzkoRvNro",
        "outputId": "5efe63b3-245c-4dae-edf6-cdf52673176c"
      },
      "outputs": [
        {
          "name": "stdout",
          "output_type": "stream",
          "text": [
            "23763.187393064723\n",
            "1533982883.44486\n"
          ]
        }
      ],
      "source": [
        "# Avaliando o erro da regressao\n",
        "print(mean_absolute_error(y_test, y_rl))\n",
        "print(mean_squared_error(y_test, y_rl))"
      ]
    },
    {
      "cell_type": "code",
      "execution_count": 59,
      "metadata": {
        "colab": {
          "base_uri": "https://localhost:8080/"
        },
        "id": "4KGhw-iDvxOj",
        "outputId": "b7d68663-73a4-4ebf-8087-c8d53e850b04"
      },
      "outputs": [
        {
          "name": "stdout",
          "output_type": "stream",
          "text": [
            "27580.78838174274\n",
            "2530245114.701245\n"
          ]
        }
      ],
      "source": [
        "#Avaliando erro da arvore de decisão\n",
        "print(mean_absolute_error(y_test, y_ar))\n",
        "print(mean_squared_error(y_test, y_ar))\n"
      ]
    },
    {
      "cell_type": "code",
      "execution_count": 60,
      "metadata": {
        "colab": {
          "base_uri": "https://localhost:8080/"
        },
        "id": "Ke1YSBdIwEcR",
        "outputId": "733f8438-9ef2-45f7-b2a0-56097735023e"
      },
      "outputs": [
        {
          "name": "stdout",
          "output_type": "stream",
          "text": [
            "33273.08298755187\n",
            "2733937586.841286\n"
          ]
        }
      ],
      "source": [
        "#Avaliando erro do knn\n",
        "print(mean_absolute_error(y_test, y_knn))\n",
        "print(mean_squared_error(y_test, y_knn))"
      ]
    },
    {
      "cell_type": "code",
      "execution_count": 61,
      "metadata": {
        "colab": {
          "base_uri": "https://localhost:8080/"
        },
        "id": "cd63ZiPBxKLS",
        "outputId": "822263f4-55ab-41a8-f719-7762f2a1029d"
      },
      "outputs": [],
      "source": [
        "#Importando matplotlib\n",
        "import matplotlib.pyplot as plt\n"
      ]
    },
    {
      "cell_type": "code",
      "execution_count": 62,
      "metadata": {
        "colab": {
          "base_uri": "https://localhost:8080/",
          "height": 439
        },
        "id": "a9MTfSwBxVK3",
        "outputId": "35754562-4f5d-46cf-d8a9-037c67a4211e"
      },
      "outputs": [
        {
          "data": {
            "image/png": "[encoded data removed]",
            "text/plain": [
              "<Figure size 1500x500 with 3 Axes>"
            ]
          },
          "metadata": {},
          "output_type": "display_data"
        }
      ],
      "source": [
        "#Criando gráfico\n",
        "# Criando esse gráfico\n",
        "fig, ax = plt.subplots(ncols=3,figsize=(15,5))\n",
        "\n",
        "ax[0].scatter(y_test/100000,y_rl/100000) # regressao\n",
        "ax[0].set_title('Regressão Linear')\n",
        "ax[0].plot([0,700000],[0,700000],'--r')\n",
        "ax[1].scatter(y_test/100000,y_ar/100000) # arvore de decisao\n",
        "ax[1].set_title('Árvore de Decisão')\n",
        "ax[1].plot([0,700000],[0,700000],'--r')\n",
        "ax[2].scatter(y_test/100000,y_knn/100000) # knn\n",
        "ax[2].set_title('KNN')\n",
        "ax[2].plot([0,700000],[0,700000],'--r')\n",
        "\n",
        "ax[0].set(xlim=(0, 7),ylim=(0, 7))\n",
        "ax[0].set_xlabel('Real')\n",
        "ax[0].set_ylabel('Previsão')\n",
        "ax[1].set(xlim=(0, 7),ylim=(0, 7))\n",
        "ax[1].set_xlabel('Real')\n",
        "ax[1].set_ylabel('Previsão')\n",
        "ax[2].set(xlim=(0, 7),ylim=(0, 7))\n",
        "ax[2].set_xlabel('Real')\n",
        "ax[2].set_ylabel('Previsão')\n",
        "\n",
        "plt.show()\n"
      ]
    },
    {
      "cell_type": "markdown",
      "metadata": {},
      "source": [
        "# Fazendo a previsão para base de testes da competição"
      ]
    },
    {
      "cell_type": "code",
      "execution_count": 64,
      "metadata": {},
      "outputs": [],
      "source": [
        "# Importanto a base de testes\n",
        "teste = pd.read_csv('./Desktop/me/test.csv')\n",
        "\n",
        "#Visualizando a base de teste\n",
        "teste.head(3)\n",
        "#Eliminando as mesmas colunas da base de treino\n",
        "teste = teste.drop(eliminar, axis=1)\n",
        "#Verificando as colunas numéricas\n",
        "colunas2 = teste.columns[teste.dtypes != 'object']\n",
        "\n",
        "#Mantendo também apenas as colunas numerocas\n",
        "teste2 = teste.loc[:,colunas2]\n",
        "\n",
        "#Visualizando quantidade de valores nulos\n",
        "teste2.isnull().sum().sort_values(ascending=False)\n",
        "\n",
        "#Substituindo valores vazios por -1\n",
        "teste2 = teste2.fillna(-1)\n",
        "\n",
        "# Usando regressao linear para fazer previsão\n",
        "y_pred = reg_rl.predict(teste2)\n",
        "\n",
        "# Podemos adicionar essa coluna de previsão na nossa base\n",
        "teste['SalePrice'] = y_pred\n",
        "\n",
        "# Extrair o Id e o SalePreice\n",
        "resultado = teste[['Id','SalePrice']]\n",
        "\n",
        "# Exportando essa base\n",
        "resultado.to_csv('./Desktop/me/resultado.csv', index=False)"
      ]
    }
  ],
  "metadata": {
    "colab": {
      "authorship_tag": "ABX9TyOvCG4AuZszUMv4h90vYaBn",
      "include_colab_link": true,
      "provenance": []
    },
    "kernelspec": {
      "display_name": "Python 3 (ipykernel)",
      "language": "python",
      "name": "python3"
    },
    "language_info": {
      "codemirror_mode": {
        "name": "ipython",
        "version": 3
      },
      "file_extension": ".py",
      "mimetype": "text/x-python",
      "name": "python",
      "nbconvert_exporter": "python",
      "pygments_lexer": "ipython3",
      "version": "3.13.2"
    }
  },
  "nbformat": 4,
  "nbformat_minor": 0
}
